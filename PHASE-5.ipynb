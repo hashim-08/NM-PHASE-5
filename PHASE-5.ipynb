{
  "nbformat": 4,
  "nbformat_minor": 0,
  "metadata": {
    "colab": {
      "provenance": [],
      "include_colab_link": true
    },
    "kernelspec": {
      "name": "python3",
      "display_name": "Python 3"
    },
    "language_info": {
      "name": "python"
    }
  },
  "cells": [
    {
      "cell_type": "markdown",
      "metadata": {
        "id": "view-in-github",
        "colab_type": "text"
      },
      "source": [
        "<a href=\"https://colab.research.google.com/github/hashim-08/NM-PHASE-5/blob/main/PHASE-5.ipynb\" target=\"_parent\"><img src=\"https://colab.research.google.com/assets/colab-badge.svg\" alt=\"Open In Colab\"/></a>"
      ]
    },
    {
      "cell_type": "code",
      "execution_count": null,
      "metadata": {
        "colab": {
          "base_uri": "https://localhost:8080/"
        },
        "id": "Il8Vhx3UFVd-",
        "outputId": "41e9a00f-428a-4d14-d4a1-d45e6c1b4acd"
      },
      "outputs": [
        {
          "output_type": "stream",
          "name": "stdout",
          "text": [
            "(Simulated) Email sent to Customer 1: Discount on premium products\n",
            "(Simulated) Email sent to Customer 2: Exclusive membership benefits\n",
            "(Simulated) Email sent to Customer 3: Personalized product suggestions based on browsing history\n",
            "(Simulated) Email sent to Customer 4: Exclusive membership benefits\n",
            "(Simulated) Email sent to Customer 5: Discount on premium products\n",
            "(Simulated) Email sent to Customer 6: Exclusive membership benefits\n",
            "(Simulated) Email sent to Customer 7: Personalized product suggestions based on browsing history\n",
            "(Simulated) Email sent to Customer 8: Exclusive membership benefits\n",
            "(Simulated) Email sent to Customer 9: Discount on premium products\n",
            "(Simulated) Email sent to Customer 10: Exclusive membership benefits\n",
            "\n",
            "Segmented Customer Data:\n",
            "\n",
            "   CustomerID  TotalSpend  Frequency  LastPurchaseDaysAgo  Segment  \\\n",
            "0           1         500          5                   30        0   \n",
            "1           2        1500         20                    5        1   \n",
            "2           3         200          2                   90        2   \n",
            "3           4        2500         25                    3        1   \n",
            "4           5         800         10                   15        0   \n",
            "5           6        1800         22                    7        1   \n",
            "6           7         300          3                  100        2   \n",
            "7           8        2200         28                    2        1   \n",
            "8           9         700          7                   20        0   \n",
            "9          10        1300         18                   10        1   \n",
            "\n",
            "                                      Recommendation  \n",
            "0                       Discount on premium products  \n",
            "1                      Exclusive membership benefits  \n",
            "2  Personalized product suggestions based on brow...  \n",
            "3                      Exclusive membership benefits  \n",
            "4                       Discount on premium products  \n",
            "5                      Exclusive membership benefits  \n",
            "6  Personalized product suggestions based on brow...  \n",
            "7                      Exclusive membership benefits  \n",
            "8                       Discount on premium products  \n",
            "9                      Exclusive membership benefits  \n"
          ]
        }
      ],
      "source": [
        "# Install required libraries (if not already installed)\n",
        "# !pip install scikit-learn\n",
        "\n",
        "# Import necessary libraries\n",
        "import pandas as pd\n",
        "from sklearn.cluster import KMeans\n",
        "from sklearn.preprocessing import StandardScaler\n",
        "from email.mime.text import MIMEText\n",
        "from email.mime.multipart import MIMEMultipart\n",
        "\n",
        "# Sample customer data\n",
        "data = {\n",
        "    'CustomerID': [1, 2, 3, 4, 5, 6, 7, 8, 9, 10],\n",
        "    'TotalSpend': [500, 1500, 200, 2500, 800, 1800, 300, 2200, 700, 1300],\n",
        "    'Frequency': [5, 20, 2, 25, 10, 22, 3, 28, 7, 18],\n",
        "    'LastPurchaseDaysAgo': [30, 5, 90, 3, 15, 7, 100, 2, 20, 10]\n",
        "}\n",
        "\n",
        "# Convert to DataFrame\n",
        "df = pd.DataFrame(data)\n",
        "\n",
        "# Feature selection and scaling\n",
        "X = df[['TotalSpend', 'Frequency', 'LastPurchaseDaysAgo']]\n",
        "scaler = StandardScaler()\n",
        "X_scaled = scaler.fit_transform(X)\n",
        "\n",
        "# Apply KMeans clustering to segment customers\n",
        "kmeans = KMeans(n_clusters=3, random_state=42, n_init=10)\n",
        "df['Segment'] = kmeans.fit_predict(X_scaled)\n",
        "\n",
        "# Personalized recommendations based on segment\n",
        "def recommend(segment):\n",
        "    recommendations = {\n",
        "        0: \"Discount on premium products\",\n",
        "        1: \"Exclusive membership benefits\",\n",
        "        2: \"Personalized product suggestions based on browsing history\"\n",
        "    }\n",
        "    return recommendations.get(segment, \"General promotions\")\n",
        "\n",
        "df[\"Recommendation\"] = df[\"Segment\"].apply(recommend)\n",
        "\n",
        "# Email marketing function (simulated)\n",
        "def send_email(customer_id, recommendation):\n",
        "    sender_email = \"your_email@example.com\"\n",
        "    receiver_email = f\"customer{customer_id}@example.com\"\n",
        "    subject = \"Exclusive Offer Just for You!\"\n",
        "    body = f\"Hello Customer {customer_id},\\n\\nWe have a special offer for you: {recommendation}. Check it out now!\"\n",
        "\n",
        "    msg = MIMEMultipart()\n",
        "    msg['From'] = sender_email\n",
        "    msg['To'] = receiver_email\n",
        "    msg['Subject'] = subject\n",
        "    msg.attach(MIMEText(body, 'plain'))\n",
        "\n",
        "    try:\n",
        "        # Simulating an email server (this won't actually send emails)\n",
        "        print(f\"(Simulated) Email sent to Customer {customer_id}: {recommendation}\")\n",
        "    except Exception as e:\n",
        "        print(f\"Failed to send email: {e}\")\n",
        "\n",
        "# Simulate email notifications for each customer\n",
        "for index, row in df.iterrows():\n",
        "    send_email(row[\"CustomerID\"], row['Recommendation'])\n",
        "\n",
        "# Display results\n",
        "print(\"\\nSegmented Customer Data:\\n\")\n",
        "print(df)"
      ]
    }
  ]
}